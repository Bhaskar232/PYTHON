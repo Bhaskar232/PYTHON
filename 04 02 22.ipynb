{
 "cells": [
  {
   "cell_type": "markdown",
   "id": "e6907f34",
   "metadata": {},
   "source": [
    "# mobile validations\n",
    "- 10 digits\n",
    "- starts with indian num+91\n",
    "- startswith 9,8,7,6\n",
    "# gmail validations\n",
    "- length-use mentioned\n",
    "- adding caps letters and small letters with special characters and digits\n",
    "- @gamail.com,@yahoo.com,@vasavi.ac.in"
   ]
  },
  {
   "cell_type": "code",
   "execution_count": 12,
   "id": "cf724629",
   "metadata": {},
   "outputs": [
    {
     "ename": "IndentationError",
     "evalue": "unexpected indent (Temp/ipykernel_3636/1229010868.py, line 2)",
     "output_type": "error",
     "traceback": [
      "\u001b[1;36m  File \u001b[1;32m\"C:\\Users\\Online\\AppData\\Local\\Temp/ipykernel_3636/1229010868.py\"\u001b[1;36m, line \u001b[1;32m2\u001b[0m\n\u001b[1;33m    - ^ -> start\u001b[0m\n\u001b[1;37m    ^\u001b[0m\n\u001b[1;31mIndentationError\u001b[0m\u001b[1;31m:\u001b[0m unexpected indent\n"
     ]
    }
   ],
   "source": [
    "### patterns::\n",
    "   - ^ -> start\n",
    "   - $ -> end\n",
    "   - [0-9] -> numbers\n",
    "   - [a-z] -> small alphabets\n",
    "   - [A-Z]-> caps alphabets\n",
    "   - [a-zA-Z] -> both caps and small alphabets\n",
    "   - [0] -> special charaters\n",
    "   - [.] -> for mention\n",
    "   - [0-9](4) -> we have to give 4 numbers\n",
    "   - [0-9](6) -> we have to give 6 digits\n",
    "   - |-> for another pattern     "
   ]
  },
  {
   "cell_type": "code",
   "execution_count": null,
   "id": "271ebba2",
   "metadata": {},
   "outputs": [],
   "source": [
    "# 9492567240\n",
    "\n",
    "\n",
    "pattern=^[6-9][0-9]{9}$\n",
    "\n",
    "# +91 987654320\n",
    "\n",
    "pattern=^[+][9][1][6-9]{9}$\n",
    "\n"
   ]
  },
  {
   "cell_type": "code",
   "execution_count": 10,
   "id": "fc2ff1be",
   "metadata": {},
   "outputs": [
    {
     "name": "stdout",
     "output_type": "stream",
     "text": [
      "enter phone number9876543201\n",
      "invallid phone number\n"
     ]
    }
   ],
   "source": [
    "import re\n",
    "phone_no=input(\"enter phone number\")\n",
    "pattern=\"^[6-9][0-9]{9}$^[+][9][1][6-9][0-9]{9}$\"\n",
    "if re.match(pattern,phone_no):\n",
    "    print(\"valid phone number\")\n",
    "else:\n",
    "    print(\"invallid phone number\")"
   ]
  },
  {
   "cell_type": "markdown",
   "id": "c36cda10",
   "metadata": {},
   "source": [
    "# email validation\n",
    "- 1.username@domain\n",
    "   - user name specifications\n",
    "     - a-zA-Z-9\n",
    "     - special symbol:[]\n",
    "      - length-6 to 20 characters\n",
    "- 2.domain\n",
    "   - a-z length- 5 to 10 characters\n",
    "   - A-Z length- 2 to 5 ---in.org"
   ]
  },
  {
   "cell_type": "code",
   "execution_count": 16,
   "id": "20144e8e",
   "metadata": {},
   "outputs": [
    {
     "name": "stdout",
     "output_type": "stream",
     "text": [
      "enter email idsSBsc1234@gmail.com\n",
      "valid gmail id\n"
     ]
    }
   ],
   "source": [
    "#  EG mail.com\n",
    "import re\n",
    "email=input(\"enter email id\")\n",
    "pattern=\"[sSBsc2353@gmail.com]\"\n",
    "if re.match(pattern,email):\n",
    "    print(\"valid gmail id\")\n",
    "else:\n",
    "    print(\"invallid gmail id\")"
   ]
  },
  {
   "cell_type": "code",
   "execution_count": 21,
   "id": "8a218281",
   "metadata": {},
   "outputs": [
    {
     "name": "stdout",
     "output_type": "stream",
     "text": [
      "enter emailfjjhjds3223@gmail.com\n",
      "invallid email id\n"
     ]
    }
   ],
   "source": [
    "# vasavi32@gmail.com\n",
    "email=input(\"enter email\")\n",
    "pattert=\"^[a-z]{6}[9][9][@][a-z]{5}[.][a-z]{3}$\"\n",
    "\n",
    "if re.match(pattern,email):\n",
    "    print(\"valid email id\")\n",
    "else:\n",
    "    print(\"invallid email id\")"
   ]
  },
  {
   "cell_type": "code",
   "execution_count": null,
   "id": "08c6f433",
   "metadata": {},
   "outputs": [],
   "source": []
  },
  {
   "cell_type": "code",
   "execution_count": null,
   "id": "d84ccf39",
   "metadata": {},
   "outputs": [],
   "source": []
  },
  {
   "cell_type": "code",
   "execution_count": null,
   "id": "16bbc910",
   "metadata": {},
   "outputs": [],
   "source": []
  },
  {
   "cell_type": "code",
   "execution_count": null,
   "id": "5993d714",
   "metadata": {},
   "outputs": [],
   "source": []
  },
  {
   "cell_type": "code",
   "execution_count": null,
   "id": "2b0efb0c",
   "metadata": {},
   "outputs": [],
   "source": []
  },
  {
   "cell_type": "code",
   "execution_count": null,
   "id": "cc9bd352",
   "metadata": {},
   "outputs": [],
   "source": []
  }
 ],
 "metadata": {
  "kernelspec": {
   "display_name": "Python 3 (ipykernel)",
   "language": "python",
   "name": "python3"
  },
  "language_info": {
   "codemirror_mode": {
    "name": "ipython",
    "version": 3
   },
   "file_extension": ".py",
   "mimetype": "text/x-python",
   "name": "python",
   "nbconvert_exporter": "python",
   "pygments_lexer": "ipython3",
   "version": "3.9.7"
  }
 },
 "nbformat": 4,
 "nbformat_minor": 5
}
