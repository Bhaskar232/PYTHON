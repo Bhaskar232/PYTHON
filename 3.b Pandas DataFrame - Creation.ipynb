{
  "cells": [
    {
      "cell_type": "markdown",
      "metadata": {
        "id": "Bkexdbg295ga"
      },
      "source": [
        "<h1 style = \"color:Red\">pandas.DataFrame</h1>\n",
        "\n",
        "\n",
        "\n",
        "<h2 style = \"color:Green\">\n",
        "    \n",
        "* Two dimensional data structure\n",
        "\n",
        "\n",
        "* Used to store tabular data --> rows and column with row index and column index \n",
        "\n",
        "\n",
        "* Every column can have its own type of data. \n",
        "\n",
        "\n",
        "* We can think of it like a spreadsheet or database table.</h2>\n",
        "\n",
        "\n",
        "![New%20Microsoft%20PowerPoint%20Presentation.png](attachment:New%20Microsoft%20PowerPoint%20Presentation.png)\n",
        "\n"
      ]
    },
    {
      "cell_type": "code",
      "execution_count": 1,
      "metadata": {
        "id": "G8RFUxpA95gi"
      },
      "outputs": [],
      "source": [
        "# Import pandas library\n",
        "import pandas as pd"
      ]
    },
    {
      "cell_type": "markdown",
      "metadata": {
        "id": "wwVnEuvW95gn"
      },
      "source": [
        "<h2 style = \"color:Green\">DataFrame Creation</h2>\n",
        "                                           "
      ]
    },
    {
      "cell_type": "markdown",
      "metadata": {
        "id": "ZS618iUG95gq"
      },
      "source": [
        "<h3 style = \"color:Blue\">Creation of Empty DataFrame</h3>\n",
        "\n",
        "* Dataframe object canbe created by using a calss **pandas.DataFrame()**."
      ]
    },
    {
      "cell_type": "code",
      "execution_count": 2,
      "metadata": {
        "colab": {
          "base_uri": "https://localhost:8080/"
        },
        "id": "ycRz0Vrt95gs",
        "outputId": "9d29eda2-2452-40d8-c8a8-8365dbc5979a"
      },
      "outputs": [
        {
          "output_type": "stream",
          "name": "stdout",
          "text": [
            "Empty DataFrame\n",
            "Columns: []\n",
            "Index: []\n",
            "<class 'pandas.core.frame.DataFrame'>\n"
          ]
        }
      ],
      "source": [
        "tb=pd.DataFrame()\n",
        "print(tb)\n",
        "print(type(tb))"
      ]
    },
    {
      "cell_type": "markdown",
      "metadata": {
        "id": "RQRM3P7G95gu"
      },
      "source": [
        "<h3 style = \"color:Blue\">Creation of DataFrame from dictionary of lists</h3>\n",
        "\n",
        "####  Here each item(key:value pair) wiil be a column in the dataframe"
      ]
    },
    {
      "cell_type": "code",
      "execution_count": 3,
      "metadata": {
        "colab": {
          "base_uri": "https://localhost:8080/"
        },
        "id": "I4PDO_lM95gw",
        "outputId": "59e1a6c9-9638-48e8-b382-f110053ad253"
      },
      "outputs": [
        {
          "output_type": "stream",
          "name": "stdout",
          "text": [
            "{'Name': ['Sai', 'Sony', 'Pavan', 'Bhaskar'], 'Age': [20, 21, 21, 21], 'percentage': [100, 99.7, 90.9, 62.3]}\n"
          ]
        }
      ],
      "source": [
        "tb={\"Name\":[\"Sai\",\"Sony\",\"Pavan\",\"Bhaskar\"],\"Age\":[20,21,21,21],\"percentage\":[100,99.7,90.9,62.3]}\n",
        "print(tb)\n"
      ]
    },
    {
      "cell_type": "code",
      "source": [
        "bt=pd.DataFrame(tb)\n",
        "print(bt)"
      ],
      "metadata": {
        "colab": {
          "base_uri": "https://localhost:8080/"
        },
        "id": "1yln1NaT_Uu9",
        "outputId": "a7b3dd20-336e-44ef-c2b6-7b9b75402494"
      },
      "execution_count": 8,
      "outputs": [
        {
          "output_type": "stream",
          "name": "stdout",
          "text": [
            "      Name  Age  percentage\n",
            "0      Sai   20       100.0\n",
            "1     Sony   21        99.7\n",
            "2    Pavan   21        90.9\n",
            "3  Bhaskar   21        62.3\n"
          ]
        }
      ]
    },
    {
      "cell_type": "markdown",
      "metadata": {
        "id": "wM8EcIWe95gz"
      },
      "source": [
        "<h3 style = \"color:Blue\">Creation of DataFrame from list of dictionaries</h3>\n",
        "\n",
        "#### Each dictionary in the list will become a row in the dataframe"
      ]
    },
    {
      "cell_type": "code",
      "execution_count": 9,
      "metadata": {
        "colab": {
          "base_uri": "https://localhost:8080/"
        },
        "id": "1Uq9iU6s95g2",
        "outputId": "f4a98a93-b6b3-46ca-cf77-f2344bd4da07"
      },
      "outputs": [
        {
          "output_type": "stream",
          "name": "stdout",
          "text": [
            "[{'Name': 'Sai', 'Age': 20, 'percentage': 100}, {'Name': 'Sony', 'Age': 21, 'percentage': 99.7}, {'Name': 'Pavan', 'Age': 21, 'percentage': 90.9}, {'Name': 'Bhaskar', 'Age': 21, 'percentage': 62.3}]\n"
          ]
        }
      ],
      "source": [
        "l1=[{\"Name\":\"Sai\",\"Age\":20,\"percentage\":100},{\"Name\":\"Sony\",\"Age\":21,\"percentage\":99.7},{\"Name\":\"Pavan\",\"Age\":21,\"percentage\":90.9},{\"Name\":\"Bhaskar\",\"Age\":21,\"percentage\":62.3}]\n",
        "print(l1)\n"
      ]
    },
    {
      "cell_type": "markdown",
      "metadata": {
        "id": "d9uekSQA95g5"
      },
      "source": [
        "<h3 style = \"color:Blue\">Creation of a DataFrame from list of lists</h3>\n",
        "\n",
        "#### Each inner list will be a row in the dataframe\n",
        "\n",
        "#### We can assign row indices and column names while creating a dataframe with index and columns attributes"
      ]
    },
    {
      "cell_type": "code",
      "execution_count": 10,
      "metadata": {
        "colab": {
          "base_uri": "https://localhost:8080/"
        },
        "id": "dCQwF2-995g7",
        "outputId": "0ea06fd3-a696-4b9e-e3ad-b574d7661d77"
      },
      "outputs": [
        {
          "output_type": "stream",
          "name": "stdout",
          "text": [
            "[['Sony', 21, 99.7], ['Sai', 20, 100], ['Bhaskar', 21, 62.3]]\n"
          ]
        }
      ],
      "source": [
        "tb=[[\"Sony\",21,99.7],[\"Sai\",20,100],[\"Bhaskar\",21,62.3]]\n",
        "print(tb)"
      ]
    },
    {
      "cell_type": "code",
      "source": [
        "d3=pd.DataFrame(tb)\n",
        "print(d3)"
      ],
      "metadata": {
        "colab": {
          "base_uri": "https://localhost:8080/"
        },
        "id": "lvfk0vc1BeML",
        "outputId": "6ec350af-3529-4548-9965-847d3411ff98"
      },
      "execution_count": 12,
      "outputs": [
        {
          "output_type": "stream",
          "name": "stdout",
          "text": [
            "         0   1      2\n",
            "0     Sony  21   99.7\n",
            "1      Sai  20  100.0\n",
            "2  Bhaskar  21   62.3\n"
          ]
        }
      ]
    },
    {
      "cell_type": "code",
      "execution_count": 13,
      "metadata": {
        "colab": {
          "base_uri": "https://localhost:8080/"
        },
        "id": "XB_-zrln95g-",
        "outputId": "94c46126-4f43-4d76-9053-f968d7762c85"
      },
      "outputs": [
        {
          "output_type": "stream",
          "name": "stdout",
          "text": [
            "       Nmae  Age  Percentage\n",
            "r1     Sony   21        99.7\n",
            "r2      Sai   20       100.0\n",
            "r3  Bhaskar   21        62.3\n"
          ]
        }
      ],
      "source": [
        "# Change the labels for rows and columns\n",
        "d4.index=[\"r1\",\"r2\",\"r3\"]\n",
        "d4.columns=[\"Nmae\",\"Age\",\"Percentage\"]\n",
        "print(d4)\n"
      ]
    },
    {
      "cell_type": "markdown",
      "metadata": {
        "id": "CjSa0qgS95g_"
      },
      "source": [
        "<h2 style = \"color:Green\">Working with CSV/Excel files</h2>\n",
        "\n",
        "\n",
        "* CSV --> Comma Separated Values"
      ]
    },
    {
      "cell_type": "markdown",
      "metadata": {
        "id": "swL3azNm95hB"
      },
      "source": [
        "<h3 style = \"color:Blue\">Importing CSV file to a DataFrame</h3>\n",
        "\n",
        "\n",
        "\n",
        "* **pandas.read_csv(path)**: Function to create a DataFrame from a csv file.\n",
        "\n",
        "* Note: In windows system, represent path as a raw string to supress its escape functionality\n",
        "\n"
      ]
    },
    {
      "cell_type": "code",
      "execution_count": 17,
      "metadata": {
        "id": "45syMD3M95hD"
      },
      "outputs": [],
      "source": [
        "import pandas as pd"
      ]
    },
    {
      "cell_type": "code",
      "source": [],
      "metadata": {
        "id": "wpHbgYRHCK5P"
      },
      "execution_count": 21,
      "outputs": []
    },
    {
      "cell_type": "markdown",
      "metadata": {
        "id": "iIYN7tp595hE"
      },
      "source": [
        "* **pandas.read_csv(path, names = [list_of_column_names])** : names keyword argument can be used when file is not having header."
      ]
    },
    {
      "cell_type": "code",
      "execution_count": null,
      "metadata": {
        "id": "oAn-KCfM95hF"
      },
      "outputs": [],
      "source": []
    },
    {
      "cell_type": "markdown",
      "metadata": {
        "id": "mJixfvnj95hG"
      },
      "source": [
        "<h3 style = \"color:Blue\">Exporting DataFrame to a CSV file</h3>\n",
        "\n",
        "\n",
        "* **pandas.DataFrame.to_csv(path)**: Copies the contents with row index to a csv file specified by path. \n"
      ]
    },
    {
      "cell_type": "code",
      "execution_count": null,
      "metadata": {
        "id": "lIICZTAW95hH"
      },
      "outputs": [],
      "source": []
    },
    {
      "cell_type": "markdown",
      "metadata": {
        "id": "-EI6o8F695hI"
      },
      "source": [
        "\n",
        "* **pandas.DataFrame.to_csv(path, index = False)**: Copies the contents without row index to a csv file specified by path."
      ]
    },
    {
      "cell_type": "code",
      "execution_count": null,
      "metadata": {
        "id": "2lPCt0Ii95hJ"
      },
      "outputs": [],
      "source": []
    },
    {
      "cell_type": "markdown",
      "metadata": {
        "id": "_EjyWF8s95hJ"
      },
      "source": [
        "<h3 style = \"color:Blue\">Working with Excel</h3>\n",
        "\n",
        "\n",
        "\n",
        "* **pandas.read_excel(path)**: Function to create a DataFrame from an excel file.\n",
        "* **pandas.to_excel(path)**: Function to save a DataFrame to a excel file."
      ]
    },
    {
      "cell_type": "code",
      "execution_count": null,
      "metadata": {
        "id": "nWuQYo3_95hK"
      },
      "outputs": [],
      "source": []
    }
  ],
  "metadata": {
    "kernelspec": {
      "display_name": "Python 3",
      "language": "python",
      "name": "python3"
    },
    "language_info": {
      "codemirror_mode": {
        "name": "ipython",
        "version": 3
      },
      "file_extension": ".py",
      "mimetype": "text/x-python",
      "name": "python",
      "nbconvert_exporter": "python",
      "pygments_lexer": "ipython3",
      "version": "3.9.4"
    },
    "colab": {
      "provenance": []
    }
  },
  "nbformat": 4,
  "nbformat_minor": 0
}