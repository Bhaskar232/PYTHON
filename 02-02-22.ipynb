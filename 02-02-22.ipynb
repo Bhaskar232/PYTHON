{
 "cells": [
  {
   "cell_type": "markdown",
   "id": "a8e2f0f3",
   "metadata": {},
   "source": [
    "### input and output methods\n",
    "- reading dat or information from the user----***input()***\n",
    "   - static input\n",
    "   - dynamical input\n",
    "- dispayinmg the information or data to the user----***print()*** "
   ]
  },
  {
   "cell_type": "code",
   "execution_count": 3,
   "id": "83e6caed",
   "metadata": {},
   "outputs": [
    {
     "name": "stdout",
     "output_type": "stream",
     "text": [
      "10\n",
      "20\n"
     ]
    }
   ],
   "source": [
    "a=10;\n",
    "b=20;\n",
    "print(a)\n",
    "print(b)"
   ]
  },
  {
   "cell_type": "markdown",
   "id": "3d6fe274",
   "metadata": {},
   "source": [
    "### operators\n",
    "  - output for the normal divison is quotient\n",
    "  - output for the int division or floor divisin is\n",
    "  - integer part of the qoutient\n",
    "  - output for the module\n",
    "- arthemetic operators(+,-,*,**,/,//,%)\n",
    "- assignment operators(=)\n",
    "- comparisin operators(<,>,<=,>=,==)\n",
    "- logical operators(and,or,not)\n",
    "- bitwise operators(&,|,^)\n",
    "- identity operators(id (==,isnot(!=)\n",
    "- membership operator(in,notin)"
   ]
  },
  {
   "cell_type": "markdown",
   "id": "57f9ea23",
   "metadata": {},
   "source": [
    "### arthemetic operators"
   ]
  },
  {
   "cell_type": "code",
   "execution_count": 2,
   "id": "1f6f32df",
   "metadata": {},
   "outputs": [
    {
     "name": "stdout",
     "output_type": "stream",
     "text": [
      "addition 88\n",
      "subtraction 24\n",
      "multiplication 1792\n",
      "power 87501775260248338795649138639242377629452267851964481536\n",
      "division 1.75\n",
      "int division or floor division 1\n",
      "modulo division 24\n"
     ]
    }
   ],
   "source": [
    "a=56\n",
    "b=32\n",
    "print(\"addition\",a+b)\n",
    "print(\"subtraction\",a-b)\n",
    "print(\"multiplication\",a*b)\n",
    "print(\"power\",a**b)\n",
    "print(\"division\",a/b)\n",
    "print(\"int division or floor division\",a//b)\n",
    "print(\"modulo division\",a%b)"
   ]
  },
  {
   "cell_type": "markdown",
   "id": "c25047a2",
   "metadata": {},
   "source": [
    "### Assignment operator\n",
    "- it represented with =\n",
    "- left side value of the operator(=) is called as a variable\n",
    "- right side value of the variable(=) is called as a value\n"
   ]
  },
  {
   "cell_type": "code",
   "execution_count": 3,
   "id": "c1003a2f",
   "metadata": {},
   "outputs": [
    {
     "name": "stdout",
     "output_type": "stream",
     "text": [
      "32\n",
      "23\n"
     ]
    }
   ],
   "source": [
    "a=32\n",
    "b=23\n",
    "print(a)\n",
    "print(b)"
   ]
  },
  {
   "cell_type": "markdown",
   "id": "5e400b40",
   "metadata": {},
   "source": [
    "### comparision operator"
   ]
  },
  {
   "cell_type": "code",
   "execution_count": 5,
   "id": "8176bab0",
   "metadata": {},
   "outputs": [
    {
     "data": {
      "text/plain": [
       "False"
      ]
     },
     "execution_count": 5,
     "metadata": {},
     "output_type": "execute_result"
    }
   ],
   "source": [
    "2>5"
   ]
  },
  {
   "cell_type": "code",
   "execution_count": 4,
   "id": "a2f49017",
   "metadata": {},
   "outputs": [
    {
     "data": {
      "text/plain": [
       "True"
      ]
     },
     "execution_count": 4,
     "metadata": {},
     "output_type": "execute_result"
    }
   ],
   "source": [
    "2<6"
   ]
  },
  {
   "cell_type": "code",
   "execution_count": 10,
   "id": "dc237306",
   "metadata": {},
   "outputs": [
    {
     "ename": "SyntaxError",
     "evalue": "invalid syntax (Temp/ipykernel_4120/4022175759.py, line 1)",
     "output_type": "error",
     "traceback": [
      "\u001b[1;36m  File \u001b[1;32m\"C:\\Users\\Online\\AppData\\Local\\Temp/ipykernel_4120/4022175759.py\"\u001b[1;36m, line \u001b[1;32m1\u001b[0m\n\u001b[1;33m    if 2>9 and 2<=6\u001b[0m\n\u001b[1;37m                   ^\u001b[0m\n\u001b[1;31mSyntaxError\u001b[0m\u001b[1;31m:\u001b[0m invalid syntax\n"
     ]
    }
   ],
   "source": [
    "if 2>9 and 2<=6\n",
    "  print(\"print true or false\")\n",
    "else\n",
    "  print(\"gfhf\")"
   ]
  },
  {
   "cell_type": "code",
   "execution_count": 11,
   "id": "3c894427",
   "metadata": {},
   "outputs": [
    {
     "data": {
      "text/plain": [
       "False"
      ]
     },
     "execution_count": 11,
     "metadata": {},
     "output_type": "execute_result"
    }
   ],
   "source": [
    "2>=7"
   ]
  },
  {
   "cell_type": "code",
   "execution_count": 12,
   "id": "560f218c",
   "metadata": {},
   "outputs": [
    {
     "data": {
      "text/plain": [
       "True"
      ]
     },
     "execution_count": 12,
     "metadata": {},
     "output_type": "execute_result"
    }
   ],
   "source": [
    "3<=5"
   ]
  },
  {
   "cell_type": "markdown",
   "id": "9113b831",
   "metadata": {},
   "source": [
    "### logical operators\n",
    "- and,or,not\n",
    "- if all yhe inputs are true the output is true(and).\n",
    "- if any of the input is tre the output is true(or),\n",
    "- opposute operation for the given one"
   ]
  },
  {
   "cell_type": "code",
   "execution_count": 13,
   "id": "317ec7c4",
   "metadata": {},
   "outputs": [
    {
     "data": {
      "text/plain": [
       "False"
      ]
     },
     "execution_count": 13,
     "metadata": {},
     "output_type": "execute_result"
    }
   ],
   "source": [
    "2<5 and 3>6"
   ]
  },
  {
   "cell_type": "code",
   "execution_count": 14,
   "id": "d9dd489d",
   "metadata": {},
   "outputs": [
    {
     "data": {
      "text/plain": [
       "True"
      ]
     },
     "execution_count": 14,
     "metadata": {},
     "output_type": "execute_result"
    }
   ],
   "source": [
    "2<5 and 3<6"
   ]
  },
  {
   "cell_type": "code",
   "execution_count": 15,
   "id": "b7e716f1",
   "metadata": {},
   "outputs": [
    {
     "data": {
      "text/plain": [
       "True"
      ]
     },
     "execution_count": 15,
     "metadata": {},
     "output_type": "execute_result"
    }
   ],
   "source": [
    "3<9 and 4>0"
   ]
  },
  {
   "cell_type": "code",
   "execution_count": 16,
   "id": "94dc1e34",
   "metadata": {},
   "outputs": [
    {
     "data": {
      "text/plain": [
       "True"
      ]
     },
     "execution_count": 16,
     "metadata": {},
     "output_type": "execute_result"
    }
   ],
   "source": [
    "4<8 or 5>2"
   ]
  },
  {
   "cell_type": "code",
   "execution_count": 17,
   "id": "8c127949",
   "metadata": {},
   "outputs": [
    {
     "data": {
      "text/plain": [
       "False"
      ]
     },
     "execution_count": 17,
     "metadata": {},
     "output_type": "execute_result"
    }
   ],
   "source": [
    "5>9 or 8<3"
   ]
  },
  {
   "cell_type": "code",
   "execution_count": 18,
   "id": "ccd45c2c",
   "metadata": {},
   "outputs": [
    {
     "data": {
      "text/plain": [
       "False"
      ]
     },
     "execution_count": 18,
     "metadata": {},
     "output_type": "execute_result"
    }
   ],
   "source": [
    "a=100\n",
    "not a"
   ]
  },
  {
   "cell_type": "markdown",
   "id": "a5ea4964",
   "metadata": {},
   "source": [
    "### bitwise operator"
   ]
  },
  {
   "cell_type": "code",
   "execution_count": 19,
   "id": "39fafe0d",
   "metadata": {},
   "outputs": [
    {
     "data": {
      "text/plain": [
       "2"
      ]
     },
     "execution_count": 19,
     "metadata": {},
     "output_type": "execute_result"
    }
   ],
   "source": [
    "2&3\n",
    "# 2- 0 0 1 0\n",
    "# 3- 0 0 1 1\n",
    "# --------------\n",
    "# - 0 0 1 0\n"
   ]
  },
  {
   "cell_type": "code",
   "execution_count": 20,
   "id": "2b95c6e1",
   "metadata": {},
   "outputs": [
    {
     "data": {
      "text/plain": [
       "7"
      ]
     },
     "execution_count": 20,
     "metadata": {},
     "output_type": "execute_result"
    }
   ],
   "source": [
    "3|4"
   ]
  },
  {
   "cell_type": "code",
   "execution_count": 21,
   "id": "edbc9478",
   "metadata": {},
   "outputs": [
    {
     "data": {
      "text/plain": [
       "1"
      ]
     },
     "execution_count": 21,
     "metadata": {},
     "output_type": "execute_result"
    }
   ],
   "source": [
    "2^3"
   ]
  },
  {
   "cell_type": "code",
   "execution_count": 25,
   "id": "4f46b107",
   "metadata": {},
   "outputs": [
    {
     "data": {
      "text/plain": [
       "0"
      ]
     },
     "execution_count": 25,
     "metadata": {},
     "output_type": "execute_result"
    }
   ],
   "source": [
    "2>>3"
   ]
  },
  {
   "cell_type": "markdown",
   "id": "e8271a44",
   "metadata": {},
   "source": [
    "2<<3"
   ]
  },
  {
   "cell_type": "code",
   "execution_count": 24,
   "id": "32ecba8c",
   "metadata": {},
   "outputs": [
    {
     "data": {
      "text/plain": [
       "16"
      ]
     },
     "execution_count": 24,
     "metadata": {},
     "output_type": "execute_result"
    }
   ],
   "source": [
    "2<<3"
   ]
  },
  {
   "cell_type": "markdown",
   "id": "9d44fe10",
   "metadata": {},
   "source": [
    "### Identity operator"
   ]
  },
  {
   "cell_type": "code",
   "execution_count": 26,
   "id": "928ab1ad",
   "metadata": {},
   "outputs": [
    {
     "name": "stderr",
     "output_type": "stream",
     "text": [
      "<>:1: SyntaxWarning: \"is\" with a literal. Did you mean \"==\"?\n",
      "<>:1: SyntaxWarning: \"is not\" with a literal. Did you mean \"!=\"?\n",
      "<>:1: SyntaxWarning: \"is\" with a literal. Did you mean \"==\"?\n",
      "<>:1: SyntaxWarning: \"is not\" with a literal. Did you mean \"!=\"?\n",
      "C:\\Users\\Online\\AppData\\Local\\Temp/ipykernel_4120/1988167162.py:1: SyntaxWarning: \"is\" with a literal. Did you mean \"==\"?\n",
      "  a is 100 and a is not 100\n",
      "C:\\Users\\Online\\AppData\\Local\\Temp/ipykernel_4120/1988167162.py:1: SyntaxWarning: \"is not\" with a literal. Did you mean \"!=\"?\n",
      "  a is 100 and a is not 100\n"
     ]
    },
    {
     "data": {
      "text/plain": [
       "False"
      ]
     },
     "execution_count": 26,
     "metadata": {},
     "output_type": "execute_result"
    }
   ],
   "source": [
    "a is 100 and a is not 100"
   ]
  },
  {
   "cell_type": "code",
   "execution_count": 28,
   "id": "12b5174b",
   "metadata": {},
   "outputs": [
    {
     "data": {
      "text/plain": [
       "False"
      ]
     },
     "execution_count": 28,
     "metadata": {},
     "output_type": "execute_result"
    }
   ],
   "source": [
    "a==100 and a!=100"
   ]
  },
  {
   "cell_type": "markdown",
   "id": "cf563389",
   "metadata": {},
   "source": [
    "### Membership operator"
   ]
  },
  {
   "cell_type": "code",
   "execution_count": 29,
   "id": "f3e2e6b1",
   "metadata": {},
   "outputs": [
    {
     "data": {
      "text/plain": [
       "True"
      ]
     },
     "execution_count": 29,
     "metadata": {},
     "output_type": "execute_result"
    }
   ],
   "source": [
    "s=[1,2,3,4,5,6,8,9]\n",
    "4 in s"
   ]
  },
  {
   "cell_type": "code",
   "execution_count": 30,
   "id": "e9c17fb6",
   "metadata": {},
   "outputs": [
    {
     "data": {
      "text/plain": [
       "True"
      ]
     },
     "execution_count": 30,
     "metadata": {},
     "output_type": "execute_result"
    }
   ],
   "source": [
    "10 not in s"
   ]
  },
  {
   "cell_type": "code",
   "execution_count": 31,
   "id": "a3ee2c46",
   "metadata": {},
   "outputs": [
    {
     "data": {
      "text/plain": [
       "False"
      ]
     },
     "execution_count": 31,
     "metadata": {},
     "output_type": "execute_result"
    }
   ],
   "source": [
    "3 not in s"
   ]
  },
  {
   "cell_type": "code",
   "execution_count": 32,
   "id": "cab1bb60",
   "metadata": {},
   "outputs": [
    {
     "data": {
      "text/plain": [
       "False"
      ]
     },
     "execution_count": 32,
     "metadata": {},
     "output_type": "execute_result"
    }
   ],
   "source": [
    "2 not in s"
   ]
  },
  {
   "cell_type": "code",
   "execution_count": 33,
   "id": "bb02c53e",
   "metadata": {},
   "outputs": [
    {
     "data": {
      "text/plain": [
       "21"
      ]
     },
     "execution_count": 33,
     "metadata": {},
     "output_type": "execute_result"
    }
   ],
   "source": [
    "a=20\n",
    "a=a+1\n",
    "a"
   ]
  },
  {
   "cell_type": "code",
   "execution_count": 35,
   "id": "2b48fe01",
   "metadata": {},
   "outputs": [
    {
     "ename": "SyntaxError",
     "evalue": "invalid syntax (Temp/ipykernel_4120/2135942089.py, line 2)",
     "output_type": "error",
     "traceback": [
      "\u001b[1;36m  File \u001b[1;32m\"C:\\Users\\Online\\AppData\\Local\\Temp/ipykernel_4120/2135942089.py\"\u001b[1;36m, line \u001b[1;32m2\u001b[0m\n\u001b[1;33m    a+=1 ----->a=a+1\u001b[0m\n\u001b[1;37m             ^\u001b[0m\n\u001b[1;31mSyntaxError\u001b[0m\u001b[1;31m:\u001b[0m invalid syntax\n"
     ]
    }
   ],
   "source": [
    "a=45\n",
    "a+=1 ----->a=a+1\n",
    "a-=1 ----->a=a-1\n",
    "a*=1 ----->a=a*1\n",
    "a/=1 ----->a=a/1"
   ]
  },
  {
   "cell_type": "code",
   "execution_count": 36,
   "id": "fd43014b",
   "metadata": {},
   "outputs": [
    {
     "data": {
      "text/plain": [
       "46"
      ]
     },
     "execution_count": 36,
     "metadata": {},
     "output_type": "execute_result"
    }
   ],
   "source": [
    "a"
   ]
  },
  {
   "cell_type": "markdown",
   "id": "2b74d6fd",
   "metadata": {},
   "source": [
    "### Flow control\n",
    "- conditional statements(if,else,elseif,nestedif)\n",
    "- loops(for,while)\n",
    "- break,return"
   ]
  },
  {
   "cell_type": "code",
   "execution_count": null,
   "id": "18470e7b",
   "metadata": {},
   "outputs": [],
   "source": [
    "# c-language\n",
    "if(condition){\n",
    "    print(a)\n",
    "}"
   ]
  },
  {
   "cell_type": "markdown",
   "id": "5b844c31",
   "metadata": {},
   "source": [
    "### conditional statements"
   ]
  },
  {
   "cell_type": "code",
   "execution_count": null,
   "id": "7e4ddb29",
   "metadata": {},
   "outputs": [],
   "source": [
    "#if\n",
    "if(condition):\n",
    "    statement1\n",
    "    statement2\n",
    "    statement3\n",
    "     ----------\n",
    "    statementn"
   ]
  },
  {
   "cell_type": "code",
   "execution_count": null,
   "id": "af9d0bd8",
   "metadata": {},
   "outputs": [],
   "source": [
    "#if-else\n",
    "if(condition):\n",
    "    statement1\n",
    "    statement2\n",
    "    statement3\n",
    "     ----------\n",
    "    statementn\n",
    "else:\n",
    "    statement1\n",
    "    statement2\n",
    "    ----------\n",
    "    statementn"
   ]
  },
  {
   "cell_type": "code",
   "execution_count": null,
   "id": "3472e66b",
   "metadata": {},
   "outputs": [],
   "source": [
    "if 2>3:\n",
    "    print(\"true\")\n",
    "    print(\"false\")"
   ]
  },
  {
   "cell_type": "code",
   "execution_count": 6,
   "id": "e4df94ab",
   "metadata": {},
   "outputs": [
    {
     "name": "stdout",
     "output_type": "stream",
     "text": [
      "false\n"
     ]
    }
   ],
   "source": [
    "if 2>3:\n",
    "    print(\"true\")\n",
    "else:\n",
    "    print(\"false\")"
   ]
  },
  {
   "cell_type": "code",
   "execution_count": 9,
   "id": "e3220707",
   "metadata": {},
   "outputs": [
    {
     "name": "stdout",
     "output_type": "stream",
     "text": [
      "enter the number32\n",
      "even number\n"
     ]
    }
   ],
   "source": [
    "# given number is even or odd\n",
    "n=int(input(\"enter the number\"))\n",
    "if(n%2==0):\n",
    "    print(\"even number\")\n",
    "else:\n",
    "    print(\"odd number\")"
   ]
  },
  {
   "cell_type": "code",
   "execution_count": 11,
   "id": "fe4c8d57",
   "metadata": {},
   "outputs": [
    {
     "name": "stdout",
     "output_type": "stream",
     "text": [
      "number is positive\n"
     ]
    }
   ],
   "source": [
    "# given number is zero or positive or negative\n",
    "n=32\n",
    "if(n==0):\n",
    "    print(\"number is zero\")\n",
    "elif(n>0):\n",
    "    print(\"number is positive\")\n",
    "else:\n",
    "    print(\"number is negative\")"
   ]
  },
  {
   "cell_type": "code",
   "execution_count": 15,
   "id": "641d41bc",
   "metadata": {},
   "outputs": [
    {
     "name": "stdout",
     "output_type": "stream",
     "text": [
      "incorrect\n"
     ]
    },
    {
     "name": "stderr",
     "output_type": "stream",
     "text": [
      "<>:2: SyntaxWarning: \"is\" with a literal. Did you mean \"==\"?\n",
      "<>:2: SyntaxWarning: \"is not\" with a literal. Did you mean \"!=\"?\n",
      "<>:2: SyntaxWarning: \"is\" with a literal. Did you mean \"==\"?\n",
      "<>:2: SyntaxWarning: \"is not\" with a literal. Did you mean \"!=\"?\n",
      "C:\\Users\\Online\\AppData\\Local\\Temp/ipykernel_4368/2046526485.py:2: SyntaxWarning: \"is\" with a literal. Did you mean \"==\"?\n",
      "  if a==2 is 0 and a!=10 is not 0:\n",
      "C:\\Users\\Online\\AppData\\Local\\Temp/ipykernel_4368/2046526485.py:2: SyntaxWarning: \"is not\" with a literal. Did you mean \"!=\"?\n",
      "  if a==2 is 0 and a!=10 is not 0:\n"
     ]
    }
   ],
   "source": [
    "#number is divisible by 2 but not 1\n",
    "if a==2 is 0 and a!=10 is not 0:\n",
    "    print(\"correct\")\n",
    "else:\n",
    "    print(\"incorrect\")"
   ]
  },
  {
   "cell_type": "code",
   "execution_count": 18,
   "id": "ffe5a2d6",
   "metadata": {},
   "outputs": [
    {
     "name": "stdout",
     "output_type": "stream",
     "text": [
      "incorrect number\n"
     ]
    }
   ],
   "source": [
    "#number is divisible by 2 but not 1\n",
    "if a%2==0 and a%10!=0:\n",
    "    print(\"correct number\")\n",
    "else:\n",
    "    print(\"incorrect number\")"
   ]
  },
  {
   "cell_type": "markdown",
   "id": "77ad1ed1",
   "metadata": {},
   "source": [
    "### Range\n",
    "- syntax for the range is range(start,end value,step value)\n",
    "- starting value is inclusive and end value is exclusive\n"
   ]
  },
  {
   "cell_type": "code",
   "execution_count": null,
   "id": "c74a909d",
   "metadata": {},
   "outputs": [],
   "source": [
    "range(start,end,step)"
   ]
  },
  {
   "cell_type": "code",
   "execution_count": null,
   "id": "e2735428",
   "metadata": {},
   "outputs": [],
   "source": [
    "range(10,20,1)\n",
    "# 10,11,12,13,14,15,16,17,18,19\n",
    "range(20,30,2)\n",
    "# 23,26,29\n",
    "range(20,40,5)\n",
    "# 23,32,36,38\n",
    "range(50)\n",
    "# consider as start value\n",
    "range(20,30)\n",
    "# consider start value and end value\n",
    "# reverse print\n",
    "range(10,1,-1)"
   ]
  },
  {
   "cell_type": "code",
   "execution_count": 28,
   "id": "5e31757a",
   "metadata": {},
   "outputs": [
    {
     "data": {
      "text/plain": [
       "[10, 11, 12, 13, 14, 15, 16, 17, 18, 19]"
      ]
     },
     "execution_count": 28,
     "metadata": {},
     "output_type": "execute_result"
    }
   ],
   "source": [
    "list(range(10,20,1))"
   ]
  },
  {
   "cell_type": "code",
   "execution_count": 27,
   "id": "391ffa22",
   "metadata": {},
   "outputs": [
    {
     "data": {
      "text/plain": [
       "[20, 22, 24, 26, 28]"
      ]
     },
     "execution_count": 27,
     "metadata": {},
     "output_type": "execute_result"
    }
   ],
   "source": [
    "list(range(20,30,2))"
   ]
  },
  {
   "cell_type": "code",
   "execution_count": 29,
   "id": "15c1db68",
   "metadata": {},
   "outputs": [
    {
     "data": {
      "text/plain": [
       "[20, 25, 30, 35]"
      ]
     },
     "execution_count": 29,
     "metadata": {},
     "output_type": "execute_result"
    }
   ],
   "source": [
    "list(range(20,40,5))"
   ]
  },
  {
   "cell_type": "code",
   "execution_count": 30,
   "id": "5d64ec48",
   "metadata": {},
   "outputs": [
    {
     "data": {
      "text/plain": [
       "[0,\n",
       " 1,\n",
       " 2,\n",
       " 3,\n",
       " 4,\n",
       " 5,\n",
       " 6,\n",
       " 7,\n",
       " 8,\n",
       " 9,\n",
       " 10,\n",
       " 11,\n",
       " 12,\n",
       " 13,\n",
       " 14,\n",
       " 15,\n",
       " 16,\n",
       " 17,\n",
       " 18,\n",
       " 19,\n",
       " 20,\n",
       " 21,\n",
       " 22,\n",
       " 23,\n",
       " 24,\n",
       " 25,\n",
       " 26,\n",
       " 27,\n",
       " 28,\n",
       " 29,\n",
       " 30,\n",
       " 31,\n",
       " 32,\n",
       " 33,\n",
       " 34,\n",
       " 35,\n",
       " 36,\n",
       " 37,\n",
       " 38,\n",
       " 39,\n",
       " 40,\n",
       " 41,\n",
       " 42,\n",
       " 43,\n",
       " 44,\n",
       " 45,\n",
       " 46,\n",
       " 47,\n",
       " 48,\n",
       " 49]"
      ]
     },
     "execution_count": 30,
     "metadata": {},
     "output_type": "execute_result"
    }
   ],
   "source": [
    "list(range(50))"
   ]
  },
  {
   "cell_type": "code",
   "execution_count": 31,
   "id": "72959dd4",
   "metadata": {},
   "outputs": [
    {
     "data": {
      "text/plain": [
       "[20, 21, 22, 23, 24, 25, 26, 27, 28, 29]"
      ]
     },
     "execution_count": 31,
     "metadata": {},
     "output_type": "execute_result"
    }
   ],
   "source": [
    "list(range(20,30))"
   ]
  },
  {
   "cell_type": "code",
   "execution_count": 35,
   "id": "c13176e3",
   "metadata": {},
   "outputs": [
    {
     "data": {
      "text/plain": [
       "[10, 9, 8, 7, 6, 5, 4, 3, 2]"
      ]
     },
     "execution_count": 35,
     "metadata": {},
     "output_type": "execute_result"
    }
   ],
   "source": [
    "list(range(10,1,-1))"
   ]
  },
  {
   "cell_type": "code",
   "execution_count": null,
   "id": "4bcf6061",
   "metadata": {},
   "outputs": [],
   "source": []
  }
 ],
 "metadata": {
  "kernelspec": {
   "display_name": "Python 3 (ipykernel)",
   "language": "python",
   "name": "python3"
  },
  "language_info": {
   "codemirror_mode": {
    "name": "ipython",
    "version": 3
   },
   "file_extension": ".py",
   "mimetype": "text/x-python",
   "name": "python",
   "nbconvert_exporter": "python",
   "pygments_lexer": "ipython3",
   "version": "3.9.7"
  }
 },
 "nbformat": 4,
 "nbformat_minor": 5
}
