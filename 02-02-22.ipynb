{
 "cells": [
  {
   "cell_type": "markdown",
   "id": "a8e2f0f3",
   "metadata": {},
   "source": [
    "### input and output methods\n",
    "- reading dat or information from the user----***input()***\n",
    "   - static input\n",
    "   - dynamical input\n",
    "- dispayinmg the information or data to the user----***print()*** "
   ]
  },
  {
   "cell_type": "code",
   "execution_count": 3,
   "id": "d4152df2",
   "metadata": {},
   "outputs": [
    {
     "name": "stdout",
     "output_type": "stream",
     "text": [
      "10\n",
      "20\n"
     ]
    }
   ],
   "source": [
    "a=10;\n",
    "b=20;\n",
    "print(a)\n",
    "print(b)"
   ]
  },
  {
   "cell_type": "code",
   "execution_count": null,
   "id": "efc12461",
   "metadata": {},
   "outputs": [],
   "source": [
    "a=input()\n",
    "a"
   ]
  },
  {
   "cell_type": "code",
   "execution_count": 1,
   "id": "a4ad44e3",
   "metadata": {},
   "outputs": [
    {
     "name": "stdout",
     "output_type": "stream",
     "text": [
      "enter user value32\n"
     ]
    },
    {
     "data": {
      "text/plain": [
       "'32'"
      ]
     },
     "execution_count": 1,
     "metadata": {},
     "output_type": "execute_result"
    }
   ],
   "source": [
    "a=input(\"enter user value\")\n",
    "a"
   ]
  },
  {
   "cell_type": "code",
   "execution_count": 2,
   "id": "55e2d8ae",
   "metadata": {},
   "outputs": [
    {
     "name": "stdout",
     "output_type": "stream",
     "text": [
      "enter user value23\n",
      "23.0\n"
     ]
    }
   ],
   "source": [
    "a=float(input(\"enter user value\"))\n",
    "print(a)"
   ]
  },
  {
   "cell_type": "code",
   "execution_count": 4,
   "id": "ef7d0ee6",
   "metadata": {},
   "outputs": [
    {
     "name": "stdout",
     "output_type": "stream",
     "text": [
      "enter value42\n",
      "42\n"
     ]
    }
   ],
   "source": [
    "a=input(\"enter value\")\n",
    "print(a)"
   ]
  },
  {
   "cell_type": "code",
   "execution_count": 5,
   "id": "242be552",
   "metadata": {},
   "outputs": [
    {
     "name": "stdout",
     "output_type": "stream",
     "text": [
      "20 30 50\n",
      "50\n"
     ]
    }
   ],
   "source": [
    "a=20\n",
    "b=30\n",
    "c=50\n",
    "print(a,b,c)\n",
    "print(c)"
   ]
  },
  {
   "cell_type": "code",
   "execution_count": 6,
   "id": "bfca3ec3",
   "metadata": {},
   "outputs": [
    {
     "name": "stdout",
     "output_type": "stream",
     "text": [
      "enter value62\n",
      "62\n"
     ]
    }
   ],
   "source": [
    "a=input(\"enter value\")\n",
    "print(a)\n"
   ]
  },
  {
   "cell_type": "code",
   "execution_count": 7,
   "id": "c1262a3d",
   "metadata": {},
   "outputs": [
    {
     "name": "stdout",
     "output_type": "stream",
     "text": [
      "20 30 50\n",
      "50\n"
     ]
    }
   ],
   "source": [
    "a=20\n",
    "b=30\n",
    "c=50\n",
    "print(a,b,c)\n",
    "print(c)"
   ]
  },
  {
   "cell_type": "code",
   "execution_count": 8,
   "id": "bfd16f46",
   "metadata": {},
   "outputs": [
    {
     "name": "stdout",
     "output_type": "stream",
     "text": [
      "Help on built-in function print in module builtins:\n",
      "\n",
      "print(...)\n",
      "    print(value, ..., sep=' ', end='\\n', file=sys.stdout, flush=False)\n",
      "    \n",
      "    Prints the values to a stream, or to sys.stdout by default.\n",
      "    Optional keyword arguments:\n",
      "    file:  a file-like object (stream); defaults to the current sys.stdout.\n",
      "    sep:   string inserted between values, default a space.\n",
      "    end:   string appended after the last value, default a newline.\n",
      "    flush: whether to forcibly flush the stream.\n",
      "\n"
     ]
    }
   ],
   "source": [
    "help(print)"
   ]
  },
  {
   "cell_type": "code",
   "execution_count": 9,
   "id": "a54ef749",
   "metadata": {},
   "outputs": [
    {
     "name": "stdout",
     "output_type": "stream",
     "text": [
      "20,30,50\n",
      "50\n"
     ]
    }
   ],
   "source": [
    "a=20\n",
    "b=30\n",
    "c=50\n",
    "print(a,b,c,sep=\",\")\n",
    "print(c)"
   ]
  },
  {
   "cell_type": "code",
   "execution_count": 5,
   "id": "1ff8a0d4",
   "metadata": {},
   "outputs": [
    {
     "name": "stdout",
     "output_type": "stream",
     "text": [
      "enter first value23\n",
      "enter second value25\n",
      "enter three value32\n",
      "23$25$32%"
     ]
    }
   ],
   "source": [
    "## generate the three values from the user that values seperate\n",
    "a=input(\"enter first value\")\n",
    "b=input(\"enter second value\")\n",
    "c=input(\"enter three value\")\n",
    "print(a,b,c,sep=\"$\",end=\"%\")"
   ]
  },
  {
   "cell_type": "markdown",
   "id": "3d6fe274",
   "metadata": {},
   "source": [
    "##### operators\n",
    "  - output for the normal divison is quotient\n",
    "  - output for the int division or floor divisin is\n",
    "  - integer part of the qoutient\n",
    "  - output for the module\n",
    "- arthemetic operators(+,-,*,**,/,//,%)\n",
    "- assignment operators(=)\n",
    "- comparisin operators(<,>,<=,>=,==)\n",
    "- logical operators(and,or,not)\n",
    "- bitwise operators(&,|,^)\n",
    "- identity operators(id (==,isnot(!=)\n",
    "- membership operator(in,notin)"
   ]
  },
  {
   "cell_type": "markdown",
   "id": "57f9ea23",
   "metadata": {},
   "source": [
    "### arthemetic operators"
   ]
  },
  {
   "cell_type": "code",
   "execution_count": 2,
   "id": "1f6f32df",
   "metadata": {},
   "outputs": [
    {
     "name": "stdout",
     "output_type": "stream",
     "text": [
      "addition 88\n",
      "subtraction 24\n",
      "multiplication 1792\n",
      "power 87501775260248338795649138639242377629452267851964481536\n",
      "division 1.75\n",
      "int division or floor division 1\n",
      "modulo division 24\n"
     ]
    }
   ],
   "source": [
    "a=56\n",
    "b=32\n",
    "print(\"addition\",a+b)\n",
    "print(\"subtraction\",a-b)\n",
    "print(\"multiplication\",a*b)\n",
    "print(\"power\",a**b)\n",
    "print(\"division\",a/b)\n",
    "print(\"int division or floor division\",a//b)\n",
    "print(\"modulo division\",a%b)"
   ]
  },
  {
   "cell_type": "markdown",
   "id": "c25047a2",
   "metadata": {},
   "source": [
    "### Assignment operator\n",
    "- it represented with =\n",
    "- left side value of the operator(=) is called as a variable\n",
    "- right side value of the variable(=) is called as a value\n"
   ]
  },
  {
   "cell_type": "code",
   "execution_count": 3,
   "id": "c1003a2f",
   "metadata": {},
   "outputs": [
    {
     "name": "stdout",
     "output_type": "stream",
     "text": [
      "32\n",
      "23\n"
     ]
    }
   ],
   "source": [
    "a=32\n",
    "b=23\n",
    "print(a)\n",
    "print(b)"
   ]
  },
  {
   "cell_type": "markdown",
   "id": "5e400b40",
   "metadata": {},
   "source": [
    "### comparision operator"
   ]
  },
  {
   "cell_type": "code",
   "execution_count": 5,
   "id": "8176bab0",
   "metadata": {},
   "outputs": [
    {
     "data": {
      "text/plain": [
       "False"
      ]
     },
     "execution_count": 5,
     "metadata": {},
     "output_type": "execute_result"
    }
   ],
   "source": [
    "2>5"
   ]
  },
  {
   "cell_type": "code",
   "execution_count": 4,
   "id": "a2f49017",
   "metadata": {},
   "outputs": [
    {
     "data": {
      "text/plain": [
       "True"
      ]
     },
     "execution_count": 4,
     "metadata": {},
     "output_type": "execute_result"
    }
   ],
   "source": [
    "2<6"
   ]
  },
  {
   "cell_type": "code",
   "execution_count": 10,
   "id": "dc237306",
   "metadata": {},
   "outputs": [
    {
     "ename": "SyntaxError",
     "evalue": "invalid syntax (Temp/ipykernel_4120/4022175759.py, line 1)",
     "output_type": "error",
     "traceback": [
      "\u001b[1;36m  File \u001b[1;32m\"C:\\Users\\Online\\AppData\\Local\\Temp/ipykernel_4120/4022175759.py\"\u001b[1;36m, line \u001b[1;32m1\u001b[0m\n\u001b[1;33m    if 2>9 and 2<=6\u001b[0m\n\u001b[1;37m                   ^\u001b[0m\n\u001b[1;31mSyntaxError\u001b[0m\u001b[1;31m:\u001b[0m invalid syntax\n"
     ]
    }
   ],
   "source": [
    "if 2>9 and 2<=6\n",
    "  print(\"print true or false\")\n",
    "else\n",
    "  print(\"gfhf\")"
   ]
  },
  {
   "cell_type": "code",
   "execution_count": 11,
   "id": "3c894427",
   "metadata": {},
   "outputs": [
    {
     "data": {
      "text/plain": [
       "False"
      ]
     },
     "execution_count": 11,
     "metadata": {},
     "output_type": "execute_result"
    }
   ],
   "source": [
    "2>=7"
   ]
  },
  {
   "cell_type": "code",
   "execution_count": 12,
   "id": "560f218c",
   "metadata": {},
   "outputs": [
    {
     "data": {
      "text/plain": [
       "True"
      ]
     },
     "execution_count": 12,
     "metadata": {},
     "output_type": "execute_result"
    }
   ],
   "source": [
    "3<=5"
   ]
  },
  {
   "cell_type": "markdown",
   "id": "9113b831",
   "metadata": {},
   "source": [
    "### logical operators\n",
    "- and,or,not\n",
    "- if all yhe inputs are true the output is true(and).\n",
    "- if any of the input is tre the output is true(or),\n",
    "- opposute operation for the given one"
   ]
  },
  {
   "cell_type": "code",
   "execution_count": 13,
   "id": "317ec7c4",
   "metadata": {},
   "outputs": [
    {
     "data": {
      "text/plain": [
       "False"
      ]
     },
     "execution_count": 13,
     "metadata": {},
     "output_type": "execute_result"
    }
   ],
   "source": [
    "2<5 and 3>6"
   ]
  },
  {
   "cell_type": "code",
   "execution_count": 14,
   "id": "d9dd489d",
   "metadata": {},
   "outputs": [
    {
     "data": {
      "text/plain": [
       "True"
      ]
     },
     "execution_count": 14,
     "metadata": {},
     "output_type": "execute_result"
    }
   ],
   "source": [
    "2<5 and 3<6"
   ]
  },
  {
   "cell_type": "code",
   "execution_count": 15,
   "id": "b7e716f1",
   "metadata": {},
   "outputs": [
    {
     "data": {
      "text/plain": [
       "True"
      ]
     },
     "execution_count": 15,
     "metadata": {},
     "output_type": "execute_result"
    }
   ],
   "source": [
    "3<9 and 4>0"
   ]
  },
  {
   "cell_type": "code",
   "execution_count": 16,
   "id": "94dc1e34",
   "metadata": {},
   "outputs": [
    {
     "data": {
      "text/plain": [
       "True"
      ]
     },
     "execution_count": 16,
     "metadata": {},
     "output_type": "execute_result"
    }
   ],
   "source": [
    "4<8 or 5>2"
   ]
  },
  {
   "cell_type": "code",
   "execution_count": 17,
   "id": "8c127949",
   "metadata": {},
   "outputs": [
    {
     "data": {
      "text/plain": [
       "False"
      ]
     },
     "execution_count": 17,
     "metadata": {},
     "output_type": "execute_result"
    }
   ],
   "source": [
    "5>9 or 8<3"
   ]
  },
  {
   "cell_type": "code",
   "execution_count": 18,
   "id": "ccd45c2c",
   "metadata": {},
   "outputs": [
    {
     "data": {
      "text/plain": [
       "False"
      ]
     },
     "execution_count": 18,
     "metadata": {},
     "output_type": "execute_result"
    }
   ],
   "source": [
    "a=100\n",
    "not a"
   ]
  },
  {
   "cell_type": "markdown",
   "id": "a5ea4964",
   "metadata": {},
   "source": [
    "### bitwise operator"
   ]
  },
  {
   "cell_type": "code",
   "execution_count": 19,
   "id": "39fafe0d",
   "metadata": {},
   "outputs": [
    {
     "data": {
      "text/plain": [
       "2"
      ]
     },
     "execution_count": 19,
     "metadata": {},
     "output_type": "execute_result"
    }
   ],
   "source": [
    "2&3\n",
    "# 2- 0 0 1 0\n",
    "# 3- 0 0 1 1\n",
    "# --------------\n",
    "# - 0 0 1 0\n"
   ]
  },
  {
   "cell_type": "code",
   "execution_count": 20,
   "id": "2b95c6e1",
   "metadata": {},
   "outputs": [
    {
     "data": {
      "text/plain": [
       "7"
      ]
     },
     "execution_count": 20,
     "metadata": {},
     "output_type": "execute_result"
    }
   ],
   "source": [
    "3|4"
   ]
  },
  {
   "cell_type": "code",
   "execution_count": 21,
   "id": "edbc9478",
   "metadata": {},
   "outputs": [
    {
     "data": {
      "text/plain": [
       "1"
      ]
     },
     "execution_count": 21,
     "metadata": {},
     "output_type": "execute_result"
    }
   ],
   "source": [
    "2^3"
   ]
  },
  {
   "cell_type": "code",
   "execution_count": 25,
   "id": "4f46b107",
   "metadata": {},
   "outputs": [
    {
     "data": {
      "text/plain": [
       "0"
      ]
     },
     "execution_count": 25,
     "metadata": {},
     "output_type": "execute_result"
    }
   ],
   "source": [
    "2>>3"
   ]
  },
  {
   "cell_type": "markdown",
   "id": "e8271a44",
   "metadata": {},
   "source": [
    "2<<3"
   ]
  },
  {
   "cell_type": "code",
   "execution_count": 24,
   "id": "32ecba8c",
   "metadata": {},
   "outputs": [
    {
     "data": {
      "text/plain": [
       "16"
      ]
     },
     "execution_count": 24,
     "metadata": {},
     "output_type": "execute_result"
    }
   ],
   "source": [
    "2<<3"
   ]
  },
  {
   "cell_type": "markdown",
   "id": "9d44fe10",
   "metadata": {},
   "source": [
    "### Identity operator"
   ]
  },
  {
   "cell_type": "code",
   "execution_count": 26,
   "id": "928ab1ad",
   "metadata": {},
   "outputs": [
    {
     "name": "stderr",
     "output_type": "stream",
     "text": [
      "<>:1: SyntaxWarning: \"is\" with a literal. Did you mean \"==\"?\n",
      "<>:1: SyntaxWarning: \"is not\" with a literal. Did you mean \"!=\"?\n",
      "<>:1: SyntaxWarning: \"is\" with a literal. Did you mean \"==\"?\n",
      "<>:1: SyntaxWarning: \"is not\" with a literal. Did you mean \"!=\"?\n",
      "C:\\Users\\Online\\AppData\\Local\\Temp/ipykernel_4120/1988167162.py:1: SyntaxWarning: \"is\" with a literal. Did you mean \"==\"?\n",
      "  a is 100 and a is not 100\n",
      "C:\\Users\\Online\\AppData\\Local\\Temp/ipykernel_4120/1988167162.py:1: SyntaxWarning: \"is not\" with a literal. Did you mean \"!=\"?\n",
      "  a is 100 and a is not 100\n"
     ]
    },
    {
     "data": {
      "text/plain": [
       "False"
      ]
     },
     "execution_count": 26,
     "metadata": {},
     "output_type": "execute_result"
    }
   ],
   "source": [
    "a is 100 and a is not 100"
   ]
  },
  {
   "cell_type": "code",
   "execution_count": 28,
   "id": "12b5174b",
   "metadata": {},
   "outputs": [
    {
     "data": {
      "text/plain": [
       "False"
      ]
     },
     "execution_count": 28,
     "metadata": {},
     "output_type": "execute_result"
    }
   ],
   "source": [
    "a==100 and a!=100"
   ]
  },
  {
   "cell_type": "markdown",
   "id": "cf563389",
   "metadata": {},
   "source": [
    "### Membership operator"
   ]
  },
  {
   "cell_type": "code",
   "execution_count": 29,
   "id": "f3e2e6b1",
   "metadata": {},
   "outputs": [
    {
     "data": {
      "text/plain": [
       "True"
      ]
     },
     "execution_count": 29,
     "metadata": {},
     "output_type": "execute_result"
    }
   ],
   "source": [
    "s=[1,2,3,4,5,6,8,9]\n",
    "4 in s"
   ]
  },
  {
   "cell_type": "code",
   "execution_count": 30,
   "id": "e9c17fb6",
   "metadata": {},
   "outputs": [
    {
     "data": {
      "text/plain": [
       "True"
      ]
     },
     "execution_count": 30,
     "metadata": {},
     "output_type": "execute_result"
    }
   ],
   "source": [
    "10 not in s"
   ]
  },
  {
   "cell_type": "code",
   "execution_count": 31,
   "id": "a3ee2c46",
   "metadata": {},
   "outputs": [
    {
     "data": {
      "text/plain": [
       "False"
      ]
     },
     "execution_count": 31,
     "metadata": {},
     "output_type": "execute_result"
    }
   ],
   "source": [
    "3 not in s"
   ]
  },
  {
   "cell_type": "code",
   "execution_count": 32,
   "id": "cab1bb60",
   "metadata": {},
   "outputs": [
    {
     "data": {
      "text/plain": [
       "False"
      ]
     },
     "execution_count": 32,
     "metadata": {},
     "output_type": "execute_result"
    }
   ],
   "source": [
    "2 not in s"
   ]
  },
  {
   "cell_type": "code",
   "execution_count": 33,
   "id": "bb02c53e",
   "metadata": {},
   "outputs": [
    {
     "data": {
      "text/plain": [
       "21"
      ]
     },
     "execution_count": 33,
     "metadata": {},
     "output_type": "execute_result"
    }
   ],
   "source": [
    "a=20\n",
    "a=a+1\n",
    "a"
   ]
  },
  {
   "cell_type": "code",
   "execution_count": 35,
   "id": "2b48fe01",
   "metadata": {},
   "outputs": [
    {
     "ename": "SyntaxError",
     "evalue": "invalid syntax (Temp/ipykernel_4120/2135942089.py, line 2)",
     "output_type": "error",
     "traceback": [
      "\u001b[1;36m  File \u001b[1;32m\"C:\\Users\\Online\\AppData\\Local\\Temp/ipykernel_4120/2135942089.py\"\u001b[1;36m, line \u001b[1;32m2\u001b[0m\n\u001b[1;33m    a+=1 ----->a=a+1\u001b[0m\n\u001b[1;37m             ^\u001b[0m\n\u001b[1;31mSyntaxError\u001b[0m\u001b[1;31m:\u001b[0m invalid syntax\n"
     ]
    }
   ],
   "source": [
    "a=45\n",
    "a+=1 ----->a=a+1\n",
    "a-=1 ----->a=a-1\n",
    "a*=1 ----->a=a*1\n",
    "a/=1 ----->a=a/1"
   ]
  },
  {
   "cell_type": "code",
   "execution_count": 36,
   "id": "fd43014b",
   "metadata": {},
   "outputs": [
    {
     "data": {
      "text/plain": [
       "46"
      ]
     },
     "execution_count": 36,
     "metadata": {},
     "output_type": "execute_result"
    }
   ],
   "source": [
    "a"
   ]
  },
  {
   "cell_type": "markdown",
   "id": "b2acde57",
   "metadata": {},
   "source": [
    "### Flow control\n",
    "- conditional statements(if,else,elseif,nestedif)\n",
    "- loops(for,while)\n",
    "- break,return"
   ]
  },
  {
   "cell_type": "code",
   "execution_count": null,
   "id": "74cd21d0",
   "metadata": {},
   "outputs": [],
   "source": [
    "# c-language\n",
    "if(condition){\n",
    "    print(a)\n",
    "}"
   ]
  },
  {
   "cell_type": "markdown",
   "id": "9f7d88ab",
   "metadata": {},
   "source": [
    "### conditional statements"
   ]
  },
  {
   "cell_type": "code",
   "execution_count": null,
   "id": "6e13f639",
   "metadata": {},
   "outputs": [],
   "source": [
    "#if\n",
    "if(condition):\n",
    "    statement1\n",
    "    statement2\n",
    "    statement3\n",
    "     ----------\n",
    "    statementn"
   ]
  },
  {
   "cell_type": "code",
   "execution_count": null,
   "id": "460904b2",
   "metadata": {},
   "outputs": [],
   "source": [
    "#if-else\n",
    "if(condition):\n",
    "    statement1\n",
    "    statement2\n",
    "    statement3\n",
    "     ----------\n",
    "    statementn\n",
    "else:\n",
    "    statement1\n",
    "    statement2\n",
    "    ----------\n",
    "    statementn"
   ]
  },
  {
   "cell_type": "code",
   "execution_count": null,
   "id": "32405f61",
   "metadata": {},
   "outputs": [],
   "source": [
    "if 2>3:\n",
    "    print(\"true\")\n",
    "    print(\"false\")"
   ]
  },
  {
   "cell_type": "code",
   "execution_count": 6,
   "id": "093c21d5",
   "metadata": {},
   "outputs": [
    {
     "name": "stdout",
     "output_type": "stream",
     "text": [
      "false\n"
     ]
    }
   ],
   "source": [
    "if 2>3:\n",
    "    print(\"true\")\n",
    "else:\n",
    "    print(\"false\")"
   ]
  },
  {
   "cell_type": "code",
   "execution_count": 9,
   "id": "0aaad197",
   "metadata": {},
   "outputs": [
    {
     "name": "stdout",
     "output_type": "stream",
     "text": [
      "enter the number32\n",
      "even number\n"
     ]
    }
   ],
   "source": [
    "# given number is even or odd\n",
    "n=int(input(\"enter the number\"))\n",
    "if(n%2==0):\n",
    "    print(\"even number\")\n",
    "else:\n",
    "    print(\"odd number\")"
   ]
  },
  {
   "cell_type": "code",
   "execution_count": 11,
   "id": "b106b52e",
   "metadata": {},
   "outputs": [
    {
     "name": "stdout",
     "output_type": "stream",
     "text": [
      "number is positive\n"
     ]
    }
   ],
   "source": [
    "# given number is zero or positive or negative\n",
    "n=32\n",
    "if(n==0):\n",
    "    print(\"number is zero\")\n",
    "elif(n>0):\n",
    "    print(\"number is positive\")\n",
    "else:\n",
    "    print(\"number is negative\")"
   ]
  },
  {
   "cell_type": "code",
   "execution_count": 15,
   "id": "65f0df47",
   "metadata": {},
   "outputs": [
    {
     "name": "stdout",
     "output_type": "stream",
     "text": [
      "incorrect\n"
     ]
    },
    {
     "name": "stderr",
     "output_type": "stream",
     "text": [
      "<>:2: SyntaxWarning: \"is\" with a literal. Did you mean \"==\"?\n",
      "<>:2: SyntaxWarning: \"is not\" with a literal. Did you mean \"!=\"?\n",
      "<>:2: SyntaxWarning: \"is\" with a literal. Did you mean \"==\"?\n",
      "<>:2: SyntaxWarning: \"is not\" with a literal. Did you mean \"!=\"?\n",
      "C:\\Users\\Online\\AppData\\Local\\Temp/ipykernel_4368/2046526485.py:2: SyntaxWarning: \"is\" with a literal. Did you mean \"==\"?\n",
      "  if a==2 is 0 and a!=10 is not 0:\n",
      "C:\\Users\\Online\\AppData\\Local\\Temp/ipykernel_4368/2046526485.py:2: SyntaxWarning: \"is not\" with a literal. Did you mean \"!=\"?\n",
      "  if a==2 is 0 and a!=10 is not 0:\n"
     ]
    }
   ],
   "source": [
    "#number is divisible by 2 but not 1\n",
    "if a==2 is 0 and a!=10 is not 0:\n",
    "    print(\"correct\")\n",
    "else:\n",
    "    print(\"incorrect\")"
   ]
  },
  {
   "cell_type": "code",
   "execution_count": 18,
   "id": "cec2eae4",
   "metadata": {},
   "outputs": [
    {
     "name": "stdout",
     "output_type": "stream",
     "text": [
      "incorrect number\n"
     ]
    }
   ],
   "source": [
    "#number is divisible by 2 but not 1\n",
    "if a%2==0 and a%10!=0:\n",
    "    print(\"correct number\")\n",
    "else:\n",
    "    print(\"incorrect number\")"
   ]
  },
  {
   "cell_type": "markdown",
   "id": "c88ddbac",
   "metadata": {},
   "source": [
    "### Range\n",
    "- syntax for the range is range(start,end value,step value)\n",
    "- starting value is inclusive and end value is exclusive\n"
   ]
  },
  {
   "cell_type": "code",
   "execution_count": null,
   "id": "56cc1b29",
   "metadata": {},
   "outputs": [],
   "source": [
    "range(start,end,step)"
   ]
  },
  {
   "cell_type": "code",
   "execution_count": null,
   "id": "a0e69f78",
   "metadata": {},
   "outputs": [],
   "source": [
    "range(10,20,1)\n",
    "# 10,11,12,13,14,15,16,17,18,19\n",
    "range(20,30,2)\n",
    "# 23,26,29\n",
    "range(20,40,5)\n",
    "# 23,32,36,38\n",
    "range(50)\n",
    "# consider as start value\n",
    "range(20,30)\n",
    "# consider start value and end value\n",
    "# reverse print\n",
    "range(10,1,-1)"
   ]
  },
  {
   "cell_type": "code",
   "execution_count": 28,
   "id": "8688bcea",
   "metadata": {},
   "outputs": [
    {
     "data": {
      "text/plain": [
       "[10, 11, 12, 13, 14, 15, 16, 17, 18, 19]"
      ]
     },
     "execution_count": 28,
     "metadata": {},
     "output_type": "execute_result"
    }
   ],
   "source": [
    "list(range(10,20,1))"
   ]
  },
  {
   "cell_type": "code",
   "execution_count": 27,
   "id": "0783ffc0",
   "metadata": {},
   "outputs": [
    {
     "data": {
      "text/plain": [
       "[20, 22, 24, 26, 28]"
      ]
     },
     "execution_count": 27,
     "metadata": {},
     "output_type": "execute_result"
    }
   ],
   "source": [
    "list(range(20,30,2))"
   ]
  },
  {
   "cell_type": "code",
   "execution_count": 29,
   "id": "c8ae1995",
   "metadata": {},
   "outputs": [
    {
     "data": {
      "text/plain": [
       "[20, 25, 30, 35]"
      ]
     },
     "execution_count": 29,
     "metadata": {},
     "output_type": "execute_result"
    }
   ],
   "source": [
    "list(range(20,40,5))"
   ]
  },
  {
   "cell_type": "code",
   "execution_count": 30,
   "id": "d11b8097",
   "metadata": {},
   "outputs": [
    {
     "data": {
      "text/plain": [
       "[0,\n",
       " 1,\n",
       " 2,\n",
       " 3,\n",
       " 4,\n",
       " 5,\n",
       " 6,\n",
       " 7,\n",
       " 8,\n",
       " 9,\n",
       " 10,\n",
       " 11,\n",
       " 12,\n",
       " 13,\n",
       " 14,\n",
       " 15,\n",
       " 16,\n",
       " 17,\n",
       " 18,\n",
       " 19,\n",
       " 20,\n",
       " 21,\n",
       " 22,\n",
       " 23,\n",
       " 24,\n",
       " 25,\n",
       " 26,\n",
       " 27,\n",
       " 28,\n",
       " 29,\n",
       " 30,\n",
       " 31,\n",
       " 32,\n",
       " 33,\n",
       " 34,\n",
       " 35,\n",
       " 36,\n",
       " 37,\n",
       " 38,\n",
       " 39,\n",
       " 40,\n",
       " 41,\n",
       " 42,\n",
       " 43,\n",
       " 44,\n",
       " 45,\n",
       " 46,\n",
       " 47,\n",
       " 48,\n",
       " 49]"
      ]
     },
     "execution_count": 30,
     "metadata": {},
     "output_type": "execute_result"
    }
   ],
   "source": [
    "list(range(50))"
   ]
  },
  {
   "cell_type": "code",
   "execution_count": 31,
   "id": "fe19263b",
   "metadata": {},
   "outputs": [
    {
     "data": {
      "text/plain": [
       "[20, 21, 22, 23, 24, 25, 26, 27, 28, 29]"
      ]
     },
     "execution_count": 31,
     "metadata": {},
     "output_type": "execute_result"
    }
   ],
   "source": [
    "list(range(20,30))"
   ]
  },
  {
   "cell_type": "code",
   "execution_count": 35,
   "id": "9d1d7605",
   "metadata": {},
   "outputs": [
    {
     "data": {
      "text/plain": [
       "[10, 9, 8, 7, 6, 5, 4, 3, 2]"
      ]
     },
     "execution_count": 35,
     "metadata": {},
     "output_type": "execute_result"
    }
   ],
   "source": [
    "list(range(10,1,-1))"
   ]
  },
  {
   "cell_type": "markdown",
   "id": "17d1e157",
   "metadata": {},
   "source": [
    "### Loops\n",
    "- for,while\n",
    "- for loop:::A for loop in python is a control flow statements\n",
    "that is used to\n",
    "repeatedly execute a group of statements as long as the\n",
    "condition is satisfied\n",
    "such a type of statement is also known as an iterative statement\n",
    "therefore,\n",
    "a for loop is an iterative statement."
   ]
  },
  {
   "cell_type": "code",
   "execution_count": null,
   "id": "da79208a",
   "metadata": {},
   "outputs": [],
   "source": [
    "syntax:::\n",
    "    for iter in iterable: # range predifined function in the position of iterable\n",
    "        statement1\n",
    "        statement1\n",
    "        statement1"
   ]
  },
  {
   "cell_type": "code",
   "execution_count": 6,
   "id": "868e68dd",
   "metadata": {},
   "outputs": [
    {
     "name": "stdout",
     "output_type": "stream",
     "text": [
      "0\n",
      "1\n",
      "2\n",
      "3\n",
      "4\n"
     ]
    }
   ],
   "source": [
    "for i in range(5):\n",
    "     print(i)"
   ]
  },
  {
   "cell_type": "code",
   "execution_count": 9,
   "id": "33e0aa8a",
   "metadata": {},
   "outputs": [
    {
     "name": "stdout",
     "output_type": "stream",
     "text": [
      "0,1,2,3,4,"
     ]
    }
   ],
   "source": [
    "for i in range(5):\n",
    "    print(i,end=\",\")"
   ]
  },
  {
   "cell_type": "code",
   "execution_count": 11,
   "id": "3696ee16",
   "metadata": {},
   "outputs": [
    {
     "name": "stdout",
     "output_type": "stream",
     "text": [
      "0   2   4   6   8   10   "
     ]
    }
   ],
   "source": [
    "for i in range(0,11,2):\n",
    "    print(i,end=\"   \")"
   ]
  },
  {
   "cell_type": "code",
   "execution_count": 16,
   "id": "3bd452ab",
   "metadata": {},
   "outputs": [
    {
     "name": "stdout",
     "output_type": "stream",
     "text": [
      "0 \n",
      "even number count: 1\n",
      "2 \n",
      "even number count: 2\n",
      "4 \n",
      "even number count: 3\n",
      "6 \n",
      "even number count: 4\n",
      "8 \n",
      "even number count: 5\n",
      "10 \n",
      "even number count: 6\n",
      "12 \n",
      "even number count: 7\n",
      "14 \n",
      "even number count: 8\n",
      "16 \n",
      "even number count: 9\n",
      "18 \n",
      "even number count: 10\n",
      "20 \n",
      "even number count: 11\n",
      "22 \n",
      "even number count: 12\n",
      "24 \n",
      "even number count: 13\n",
      "26 \n",
      "even number count: 14\n",
      "28 \n",
      "even number count: 15\n",
      "30 \n",
      "even number count: 16\n",
      "32 \n",
      "even number count: 17\n",
      "34 \n",
      "even number count: 18\n",
      "36 \n",
      "even number count: 19\n",
      "38 \n",
      "even number count: 20\n",
      "40 \n",
      "even number count: 21\n",
      "42 \n",
      "even number count: 22\n",
      "44 \n",
      "even number count: 23\n",
      "46 \n",
      "even number count: 24\n",
      "48 \n",
      "even number count: 25\n",
      "50 \n",
      "even number count: 26\n",
      "52 \n",
      "even number count: 27\n",
      "54 \n",
      "even number count: 28\n",
      "56 \n",
      "even number count: 29\n",
      "58 \n",
      "even number count: 30\n",
      "60 \n",
      "even number count: 31\n",
      "62 \n",
      "even number count: 32\n",
      "64 \n",
      "even number count: 33\n",
      "66 \n",
      "even number count: 34\n",
      "68 \n",
      "even number count: 35\n",
      "70 \n",
      "even number count: 36\n",
      "72 \n",
      "even number count: 37\n",
      "74 \n",
      "even number count: 38\n",
      "76 \n",
      "even number count: 39\n",
      "78 \n",
      "even number count: 40\n",
      "80 \n",
      "even number count: 41\n",
      "82 \n",
      "even number count: 42\n",
      "84 \n",
      "even number count: 43\n",
      "86 \n",
      "even number count: 44\n",
      "88 \n",
      "even number count: 45\n",
      "90 \n",
      "even number count: 46\n",
      "92 \n",
      "even number count: 47\n",
      "94 \n",
      "even number count: 48\n",
      "96 \n",
      "even number count: 49\n",
      "98 \n",
      "even number count: 50\n",
      "100 \n",
      "even number count: 51\n"
     ]
    }
   ],
   "source": [
    "# print the even numbers in the range of 0 to 100 and print even number count\n",
    "c=0\n",
    "for i in range(0,101,2):\n",
    "    c=c+1\n",
    "    print(i,end=\" \")\n",
    "    print(\"\\neven number count:\",c)"
   ]
  },
  {
   "cell_type": "code",
   "execution_count": 28,
   "id": "b5f981ce",
   "metadata": {},
   "outputs": [
    {
     "name": "stdout",
     "output_type": "stream",
     "text": [
      "0 1 2 3 4 5 6 7 8 9 10 11 12 13 14 15 16 17 18 19 20 21 22 23 24 25 26 27 28 29 30 31 32 33 34 35 36 37 38 39 40 41 42 43 44 45 46 47 48 49 50 51 52 53 54 55 56 57 58 59 60 61 62 63 64 65 66 67 68 69 70 71 72 73 74 75 76 77 78 79 80 81 82 83 84 85 86 87 88 89 90 91 92 93 94 95 96 97 98 99 100 \n",
      "even number count: 51\n"
     ]
    }
   ],
   "source": [
    "# print the even numbers in the range of 0 to 100 and print even number count\n",
    "c=0\n",
    "for i in range(0,101):\n",
    "    if i%2==0:\n",
    "        c=c+1\n",
    "    print(i,end=\" \")\n",
    "print(\"\\neven number count:\",c)"
   ]
  },
  {
   "cell_type": "code",
   "execution_count": 26,
   "id": "9622e490",
   "metadata": {},
   "outputs": [
    {
     "name": "stdout",
     "output_type": "stream",
     "text": [
      "2000\n",
      "2020\n",
      "2000 2004 2008 2012 2016 2020 \n",
      "years count: 6\n"
     ]
    }
   ],
   "source": [
    "# print leap years from the range of 2000 to 2020,print years\n",
    "x=int(input())\n",
    "y=int(input())\n",
    "c=0\n",
    "for i in range(x,y+1):\n",
    "    if (i%400==0) and (i%100!=0) or (i%4==0):\n",
    "        c=c+1\n",
    "        print(i,end=\" \")\n",
    "print(\"\\nyears count:\",c)"
   ]
  },
  {
   "cell_type": "code",
   "execution_count": 32,
   "id": "1f0a952d",
   "metadata": {},
   "outputs": [
    {
     "name": "stdout",
     "output_type": "stream",
     "text": [
      "5 * 1 = 5\n",
      "5 * 2 = 10\n",
      "5 * 3 = 15\n",
      "5 * 4 = 20\n",
      "5 * 5 = 25\n",
      "5 * 6 = 30\n",
      "5 * 7 = 35\n",
      "5 * 8 = 40\n",
      "5 * 9 = 45\n",
      "5 * 10 = 50\n"
     ]
    }
   ],
   "source": [
    "n=5\n",
    "for i in range(1,11):\n",
    "    print(n,\"*\",i,\"=\",n*i)"
   ]
  },
  {
   "cell_type": "code",
   "execution_count": 36,
   "id": "335b703f",
   "metadata": {},
   "outputs": [
    {
     "name": "stdout",
     "output_type": "stream",
     "text": [
      "10\n",
      "1 2 5 10 "
     ]
    }
   ],
   "source": [
    "# print factors of s\n",
    "n=int(input())\n",
    "for i in range(1,n+1):\n",
    "    if (n%i==0):\n",
    "        print(i,end=\" \")"
   ]
  },
  {
   "cell_type": "code",
   "execution_count": 40,
   "id": "4248573b",
   "metadata": {},
   "outputs": [
    {
     "name": "stdout",
     "output_type": "stream",
     "text": [
      "ABC\n",
      "198\n"
     ]
    }
   ],
   "source": [
    "# aba\n",
    "# 92+98+97=292\n",
    "#0/p 292\n",
    "a=input()\n",
    "s=0\n",
    "for i in a:\n",
    "    s=s+ord(i)\n",
    "print(s)"
   ]
  },
  {
   "cell_type": "code",
   "execution_count": 41,
   "id": "4e61d735",
   "metadata": {},
   "outputs": [
    {
     "name": "stdout",
     "output_type": "stream",
     "text": [
      "3\n",
      "prime number\n"
     ]
    }
   ],
   "source": [
    "# check the given number is prime or not\n",
    "# print factors of s\n",
    "n=int(input())\n",
    "c=0\n",
    "for i in range(1,n+1):\n",
    "    if (n%i==0):\n",
    "        c=c+1\n",
    "if(c==2):\n",
    "    print(\"prime number\")\n",
    "else:\n",
    "    print(\"not prime number\")"
   ]
  },
  {
   "cell_type": "code",
   "execution_count": 9,
   "id": "ff76a2e4",
   "metadata": {},
   "outputs": [
    {
     "name": "stdout",
     "output_type": "stream",
     "text": [
      "1 3 5 7 9 "
     ]
    }
   ],
   "source": [
    "# 0-10\n",
    "# even numbers:\n",
    "# odd numbers:\n",
    "list1=[0,1,2,3,4,5,6,7,8,9]\n",
    "for num in list1:\n",
    "    if num % 2 != 0:\n",
    "        print(num,end=\" \")"
   ]
  },
  {
   "cell_type": "code",
   "execution_count": 10,
   "id": "c6b5d0d0",
   "metadata": {},
   "outputs": [
    {
     "name": "stdout",
     "output_type": "stream",
     "text": [
      "0 \n",
      "10\n",
      "even numbers are: 0 2 4 6 8 10 odd numbers are: 1 3 5 7 9 "
     ]
    }
   ],
   "source": [
    "#0-10\n",
    "# even numbers:\n",
    "# odd numbers:\n",
    "s=int(input())\n",
    "e=int(input())\n",
    "print(\"even numbers are:\",end=\" \")\n",
    "for i in range(s,e+1):\n",
    "    if i%2==0:\n",
    "        print(i,end=\" \")\n",
    "        #0-10\n",
    "\n",
    "print(\"odd numbers are:\",end=\" \")\n",
    "for i in range(s,e+1):\n",
    "    if i%2!=0:\n",
    "        print(i,end=\" \")"
   ]
  },
  {
   "cell_type": "code",
   "execution_count": null,
   "id": "0210cad0",
   "metadata": {},
   "outputs": [],
   "source": []
  }
 ],
 "metadata": {
  "kernelspec": {
   "display_name": "Python 3 (ipykernel)",
   "language": "python",
   "name": "python3"
  },
  "language_info": {
   "codemirror_mode": {
    "name": "ipython",
    "version": 3
   },
   "file_extension": ".py",
   "mimetype": "text/x-python",
   "name": "python",
   "nbconvert_exporter": "python",
   "pygments_lexer": "ipython3",
   "version": "3.9.7"
  }
 },
 "nbformat": 4,
 "nbformat_minor": 5
}
